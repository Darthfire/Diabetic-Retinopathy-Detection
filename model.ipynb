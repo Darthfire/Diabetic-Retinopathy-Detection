{
  "nbformat": 4,
  "nbformat_minor": 0,
  "metadata": {
    "colab": {
      "provenance": []
    },
    "kernelspec": {
      "name": "python3",
      "display_name": "Python 3"
    },
    "gpuClass": "standard",
    "accelerator": "GPU"
  },
  "cells": [
    {
      "cell_type": "markdown",
      "metadata": {
        "id": "3DR-eO17geWu"
      },
      "source": [
        "# Diabetic Retinopathy Detection\n",
        "\n"
      ]
    },
    {
      "cell_type": "code",
      "source": [
        "from google.colab import drive \n",
        "\n",
        "\n",
        "drive.mount('/content/gdrive')"
      ],
      "metadata": {
        "colab": {
          "base_uri": "https://localhost:8080/"
        },
        "id": "B1KPxbLTnOWv",
        "outputId": "9a32337f-83d8-4f8e-a7b8-80eb7ffa81f1"
      },
      "execution_count": null,
      "outputs": [
        {
          "output_type": "stream",
          "name": "stdout",
          "text": [
            "Mounted at /content/gdrive\n"
          ]
        }
      ]
    },
    {
      "cell_type": "markdown",
      "metadata": {
        "id": "EMefrVPCg-60"
      },
      "source": [
        "### Importing the libraries"
      ]
    },
    {
      "cell_type": "code",
      "metadata": {
        "id": "sCV30xyVhFbE"
      },
      "source": [
        "import tensorflow as tf\n",
        "import keras\n",
        "from keras.preprocessing.image import ImageDataGenerator"
      ],
      "execution_count": null,
      "outputs": []
    },
    {
      "cell_type": "code",
      "metadata": {
        "id": "FIleuCAjoFD8",
        "colab": {
          "base_uri": "https://localhost:8080/",
          "height": 37
        },
        "outputId": "7c9ed149-105f-42bb-e2a7-cd05006691bb"
      },
      "source": [
        "tf.__version__"
      ],
      "execution_count": null,
      "outputs": [
        {
          "output_type": "execute_result",
          "data": {
            "text/plain": [
              "'2.11.0'"
            ],
            "application/vnd.google.colaboratory.intrinsic+json": {
              "type": "string"
            }
          },
          "metadata": {},
          "execution_count": 3
        }
      ]
    },
    {
      "cell_type": "code",
      "source": [
        "tf.random.set_seed(13)"
      ],
      "metadata": {
        "id": "8LoX2BFu_CWt"
      },
      "execution_count": null,
      "outputs": []
    },
    {
      "cell_type": "code",
      "source": [
        "!nvidia-smi"
      ],
      "metadata": {
        "colab": {
          "base_uri": "https://localhost:8080/"
        },
        "id": "Vpv5984jqIlJ",
        "outputId": "66be0786-0126-43f6-b006-bfa59f30bfd7"
      },
      "execution_count": null,
      "outputs": [
        {
          "output_type": "stream",
          "name": "stdout",
          "text": [
            "Fri Mar 10 00:13:31 2023       \n",
            "+-----------------------------------------------------------------------------+\n",
            "| NVIDIA-SMI 525.85.12    Driver Version: 525.85.12    CUDA Version: 12.0     |\n",
            "|-------------------------------+----------------------+----------------------+\n",
            "| GPU  Name        Persistence-M| Bus-Id        Disp.A | Volatile Uncorr. ECC |\n",
            "| Fan  Temp  Perf  Pwr:Usage/Cap|         Memory-Usage | GPU-Util  Compute M. |\n",
            "|                               |                      |               MIG M. |\n",
            "|===============================+======================+======================|\n",
            "|   0  Tesla T4            Off  | 00000000:00:04.0 Off |                    0 |\n",
            "| N/A   69C    P0    28W /  70W |      0MiB / 15360MiB |      0%      Default |\n",
            "|                               |                      |                  N/A |\n",
            "+-------------------------------+----------------------+----------------------+\n",
            "                                                                               \n",
            "+-----------------------------------------------------------------------------+\n",
            "| Processes:                                                                  |\n",
            "|  GPU   GI   CI        PID   Type   Process name                  GPU Memory |\n",
            "|        ID   ID                                                   Usage      |\n",
            "|=============================================================================|\n",
            "|  No running processes found                                                 |\n",
            "+-----------------------------------------------------------------------------+\n"
          ]
        }
      ]
    },
    {
      "cell_type": "markdown",
      "metadata": {
        "id": "oxQxCBWyoGPE"
      },
      "source": [
        "## Part 1 - Data Preprocessing"
      ]
    },
    {
      "cell_type": "markdown",
      "source": [
        "\n",
        "\n",
        "### Image Augmentation"
      ],
      "metadata": {
        "id": "Ari8VHvsG9Et"
      }
    },
    {
      "cell_type": "code",
      "source": [
        "import os\n",
        "import random\n",
        "import imgaug as ia\n",
        "from imgaug import augmenters as iaa\n",
        "import imageio\n",
        "import time\n",
        "\n",
        "# define augmentation pipeline\n",
        "aug_pipeline = iaa.Sequential([\n",
        "    iaa.Fliplr(p=0.5),\n",
        "    iaa.Flipud(p=0.5),\n",
        "    iaa.Rotate((-45, 45)),\n",
        "    iaa.Crop(percent=(0, 0.2))\n",
        "])\n",
        "\n",
        "# define path to the folder containing the images\n",
        "path_to_folder = '/content/gdrive/MyDrive/saunar/positive'\n",
        "\n",
        "# loop through all the images in the folder\n",
        "for filename in os.listdir(path_to_folder):\n",
        "      # load the image\n",
        "      img = imageio.imread(os.path.join(path_to_folder, filename))\n",
        "\n",
        "      # randomly generate the number of augmentations to apply\n",
        "      num_augmentations = random.randint(1, 4)\n",
        "      for i in range(num_augmentations):\n",
        "          augmented_img = aug_pipeline.augment_image(img)\n",
        "\n",
        "          # save the augmented image with a modified filename\n",
        "          timestamp = str(int(time.time())) # generate unique identifier\n",
        "          new_filename = \"aug_\" + filename[:-4] + \"_\" + timestamp + \".jpg\"\n",
        "          imageio.imwrite(os.path.join(path_to_folder, new_filename), augmented_img)"
      ],
      "metadata": {
        "id": "q9fPi6C9f9In"
      },
      "execution_count": null,
      "outputs": []
    },
    {
      "cell_type": "markdown",
      "metadata": {
        "id": "MvE-heJNo3GG"
      },
      "source": [
        "### Preprocessing the Training and Testing set"
      ]
    },
    {
      "cell_type": "code",
      "source": [
        "!rm -r  '/content/gdrive/MyDrive/saunar/.ipynb_checkpoints'"
      ],
      "metadata": {
        "id": "ZFNI79PTFQas",
        "outputId": "3e0832c9-aa2a-476c-82ce-bf9cca567806",
        "colab": {
          "base_uri": "https://localhost:8080/"
        }
      },
      "execution_count": null,
      "outputs": [
        {
          "output_type": "stream",
          "name": "stdout",
          "text": [
            "rm: cannot remove '/content/gdrive/MyDrive/saunar/.ipynb_checkpoints': No such file or directory\n"
          ]
        }
      ]
    },
    {
      "cell_type": "code",
      "source": [],
      "metadata": {
        "id": "BGyUbi85XLNR"
      },
      "execution_count": null,
      "outputs": []
    },
    {
      "cell_type": "code",
      "metadata": {
        "id": "0koUcJMJpEBD",
        "colab": {
          "base_uri": "https://localhost:8080/"
        },
        "outputId": "0b9055ab-a380-4c1a-8e03-393336e45732"
      },
      "source": [
        "train_datagen = ImageDataGenerator(rescale = 1./255,\n",
        "                                   rotation_range=20,\n",
        "                                  zoom_range=0.2,\n",
        "                                  horizontal_flip=True,\n",
        "                                   vertical_flip=True,\n",
        "                                   validation_split=0.2)\n",
        "\n",
        "training_set = train_datagen.flow_from_directory('/content/gdrive/MyDrive/saunar',\n",
        "                                                 target_size = (224,224),\n",
        "                                                 batch_size = 32,\n",
        "                                                 class_mode = 'binary',\n",
        "                                                 subset=\"training\")\n",
        "\n",
        "test_set = train_datagen.flow_from_directory('/content/gdrive/MyDrive/saunar',\n",
        "                                                 target_size = (224,224),\n",
        "                                                 batch_size = 32,\n",
        "                                                 class_mode = 'binary',\n",
        "                                                 subset=\"validation\")"
      ],
      "execution_count": null,
      "outputs": [
        {
          "output_type": "stream",
          "name": "stdout",
          "text": [
            "Found 4303 images belonging to 2 classes.\n",
            "Found 1075 images belonging to 2 classes.\n"
          ]
        }
      ]
    },
    {
      "cell_type": "code",
      "source": [
        "test_set.class_indices"
      ],
      "metadata": {
        "id": "FNCV10IODK5u",
        "colab": {
          "base_uri": "https://localhost:8080/"
        },
        "outputId": "cdec67bd-de63-49f8-84bb-574cd396980c"
      },
      "execution_count": null,
      "outputs": [
        {
          "output_type": "execute_result",
          "data": {
            "text/plain": [
              "{'negative': 0, 'positive': 1}"
            ]
          },
          "metadata": {},
          "execution_count": 11
        }
      ]
    },
    {
      "cell_type": "code",
      "source": [
        "import numpy as np"
      ],
      "metadata": {
        "id": "INyUIpVgcMDt"
      },
      "execution_count": null,
      "outputs": []
    },
    {
      "cell_type": "markdown",
      "metadata": {
        "id": "mrCMmGw9pHys"
      },
      "source": [
        "### Preprocessing the Test set"
      ]
    },
    {
      "cell_type": "markdown",
      "metadata": {
        "id": "af8O4l90gk7B"
      },
      "source": [
        "## Part 2 - Building the model\n",
        "\n"
      ]
    },
    {
      "cell_type": "code",
      "source": [
        "from keras.applications.inception_resnet_v2 import InceptionResNetV2"
      ],
      "metadata": {
        "id": "XPCKMmYUBQ0g"
      },
      "execution_count": null,
      "outputs": []
    },
    {
      "cell_type": "code",
      "source": [
        "\n",
        "from keras.layers import Input\n",
        "from keras.applications import ResNet50\n"
      ],
      "metadata": {
        "id": "xwNxvy5JEdNp"
      },
      "execution_count": null,
      "outputs": []
    },
    {
      "cell_type": "code",
      "metadata": {
        "id": "SAUt4UMPlhLS"
      },
      "source": [
        "cnn = tf.keras.models.Sequential()"
      ],
      "execution_count": null,
      "outputs": []
    },
    {
      "cell_type": "code",
      "source": [
        "base_model = ResNet50(weights=\"imagenet\", include_top=False,\n",
        "\tinput_tensor=Input(shape=(224,224, 3)))"
      ],
      "metadata": {
        "id": "lPO80-KaCD7n",
        "outputId": "e480d810-45f1-492f-f16b-6f5ef4304691",
        "colab": {
          "base_uri": "https://localhost:8080/"
        }
      },
      "execution_count": null,
      "outputs": [
        {
          "output_type": "stream",
          "name": "stdout",
          "text": [
            "Downloading data from https://storage.googleapis.com/tensorflow/keras-applications/resnet/resnet50_weights_tf_dim_ordering_tf_kernels_notop.h5\n",
            "94765736/94765736 [==============================] - 5s 0us/step\n"
          ]
        }
      ]
    },
    {
      "cell_type": "code",
      "source": [
        "cnn.add(base_model)"
      ],
      "metadata": {
        "id": "2c39X7eHBXmz"
      },
      "execution_count": null,
      "outputs": []
    },
    {
      "cell_type": "code",
      "metadata": {
        "id": "XPzPrMckl-hV"
      },
      "source": [
        "cnn.add(tf.keras.layers.Conv2D(filters=32, kernel_size=3, activation='relu'))\n",
        "cnn.add(tf.keras.layers.MaxPool2D(pool_size=2, strides=2))\n"
      ],
      "execution_count": null,
      "outputs": []
    },
    {
      "cell_type": "code",
      "metadata": {
        "id": "6AZeOGCvnNZn"
      },
      "source": [
        "cnn.add(tf.keras.layers.Flatten())"
      ],
      "execution_count": null,
      "outputs": []
    },
    {
      "cell_type": "code",
      "metadata": {
        "id": "8GtmUlLd26Nq"
      },
      "source": [
        "cnn.add(tf.keras.layers.Dense(units=128, activation='relu'))"
      ],
      "execution_count": null,
      "outputs": []
    },
    {
      "cell_type": "code",
      "metadata": {
        "id": "1p_Zj1Mc3Ko_"
      },
      "source": [
        "cnn.add(tf.keras.layers.Dense(units=1, activation='sigmoid'))"
      ],
      "execution_count": null,
      "outputs": []
    },
    {
      "cell_type": "markdown",
      "metadata": {
        "id": "D6XkI90snSDl"
      },
      "source": [
        "## Part 3 - Training the model"
      ]
    },
    {
      "cell_type": "code",
      "source": [
        "opt = keras.optimizers.Adam(learning_rate=1e-4)"
      ],
      "metadata": {
        "id": "BwlOkRXfAfaR"
      },
      "execution_count": null,
      "outputs": []
    },
    {
      "cell_type": "code",
      "source": [
        "cnn.compile(optimizer = opt, loss = 'binary_crossentropy', metrics = ['accuracy',\n",
        "                                                                      tf.keras.metrics.Precision(),\n",
        "                                                                      tf.keras.metrics.Recall(),\n",
        "                                                                      keras.metrics.AUC(),\n",
        "                                                                      tf.keras.metrics.TruePositives(),\n",
        "                                                                      tf.keras.metrics.TrueNegatives(),\n",
        "                                                                      tf.keras.metrics.FalsePositives(),\n",
        "                                                                      tf.keras.metrics.FalseNegatives(),\n",
        "                                                                      ])\n"
      ],
      "metadata": {
        "id": "_vkARo_XDWPD"
      },
      "execution_count": null,
      "outputs": []
    },
    {
      "cell_type": "code",
      "source": [
        "cnn.summary()"
      ],
      "metadata": {
        "id": "IeybPhUf6N3A",
        "outputId": "cb5ba24c-88fa-4657-f461-7645c2d889ea",
        "colab": {
          "base_uri": "https://localhost:8080/"
        }
      },
      "execution_count": null,
      "outputs": [
        {
          "output_type": "stream",
          "name": "stdout",
          "text": [
            "Model: \"sequential\"\n",
            "_________________________________________________________________\n",
            " Layer (type)                Output Shape              Param #   \n",
            "=================================================================\n",
            " resnet50 (Functional)       (None, 7, 7, 2048)        23587712  \n",
            "                                                                 \n",
            " conv2d (Conv2D)             (None, 5, 5, 32)          589856    \n",
            "                                                                 \n",
            " max_pooling2d (MaxPooling2D  (None, 2, 2, 32)         0         \n",
            " )                                                               \n",
            "                                                                 \n",
            " flatten (Flatten)           (None, 128)               0         \n",
            "                                                                 \n",
            " dense (Dense)               (None, 128)               16512     \n",
            "                                                                 \n",
            " dense_1 (Dense)             (None, 1)                 129       \n",
            "                                                                 \n",
            "=================================================================\n",
            "Total params: 24,194,209\n",
            "Trainable params: 24,141,089\n",
            "Non-trainable params: 53,120\n",
            "_________________________________________________________________\n"
          ]
        }
      ]
    },
    {
      "cell_type": "code",
      "source": [
        "cnn.fit(x = training_set, validation_data = test_set, epochs = 20)"
      ],
      "metadata": {
        "id": "PwXiaI616NYJ",
        "outputId": "b75c37e9-7308-4c60-f558-245ad1ea6257",
        "colab": {
          "base_uri": "https://localhost:8080/"
        }
      },
      "execution_count": null,
      "outputs": [
        {
          "output_type": "stream",
          "name": "stdout",
          "text": [
            "Epoch 1/20\n",
            "135/135 [==============================] - 1624s 12s/step - loss: 0.2777 - accuracy: 0.9010 - precision: 0.8985 - recall: 0.7638 - auc: 0.9269 - true_positives: 1009.0000 - true_negatives: 2868.0000 - false_positives: 114.0000 - false_negatives: 312.0000 - val_loss: 1.3885 - val_accuracy: 0.3070 - val_precision: 0.3070 - val_recall: 1.0000 - val_auc: 0.5352 - val_true_positives: 330.0000 - val_true_negatives: 0.0000e+00 - val_false_positives: 745.0000 - val_false_negatives: 0.0000e+00\n",
            "Epoch 2/20\n",
            "135/135 [==============================] - 460s 3s/step - loss: 0.1603 - accuracy: 0.9489 - precision: 0.9553 - recall: 0.8743 - auc: 0.9710 - true_positives: 1155.0000 - true_negatives: 2928.0000 - false_positives: 54.0000 - false_negatives: 166.0000 - val_loss: 4.1345 - val_accuracy: 0.3070 - val_precision: 0.3070 - val_recall: 1.0000 - val_auc: 0.5000 - val_true_positives: 330.0000 - val_true_negatives: 0.0000e+00 - val_false_positives: 745.0000 - val_false_negatives: 0.0000e+00\n",
            "Epoch 3/20\n",
            "135/135 [==============================] - 462s 3s/step - loss: 0.1443 - accuracy: 0.9479 - precision: 0.9441 - recall: 0.8827 - auc: 0.9786 - true_positives: 1166.0000 - true_negatives: 2913.0000 - false_positives: 69.0000 - false_negatives: 155.0000 - val_loss: 4.3047 - val_accuracy: 0.3070 - val_precision: 0.3070 - val_recall: 1.0000 - val_auc: 0.5000 - val_true_positives: 330.0000 - val_true_negatives: 0.0000e+00 - val_false_positives: 745.0000 - val_false_negatives: 0.0000e+00\n",
            "Epoch 4/20\n",
            "135/135 [==============================] - 461s 3s/step - loss: 0.1310 - accuracy: 0.9549 - precision: 0.9490 - recall: 0.9016 - auc: 0.9818 - true_positives: 1191.0000 - true_negatives: 2918.0000 - false_positives: 64.0000 - false_negatives: 130.0000 - val_loss: 2.4831 - val_accuracy: 0.3070 - val_precision: 0.3070 - val_recall: 1.0000 - val_auc: 0.4937 - val_true_positives: 330.0000 - val_true_negatives: 0.0000e+00 - val_false_positives: 745.0000 - val_false_negatives: 0.0000e+00\n",
            "Epoch 5/20\n",
            "135/135 [==============================] - 462s 3s/step - loss: 0.1196 - accuracy: 0.9598 - precision: 0.9614 - recall: 0.9054 - auc: 0.9823 - true_positives: 1196.0000 - true_negatives: 2934.0000 - false_positives: 48.0000 - false_negatives: 125.0000 - val_loss: 4.2046 - val_accuracy: 0.3070 - val_precision: 0.3070 - val_recall: 1.0000 - val_auc: 0.5017 - val_true_positives: 330.0000 - val_true_negatives: 0.0000e+00 - val_false_positives: 745.0000 - val_false_negatives: 0.0000e+00\n",
            "Epoch 6/20\n",
            "135/135 [==============================] - 460s 3s/step - loss: 0.1030 - accuracy: 0.9665 - precision: 0.9697 - recall: 0.9198 - auc: 0.9881 - true_positives: 1215.0000 - true_negatives: 2944.0000 - false_positives: 38.0000 - false_negatives: 106.0000 - val_loss: 8.4923 - val_accuracy: 0.3070 - val_precision: 0.3070 - val_recall: 1.0000 - val_auc: 0.5000 - val_true_positives: 330.0000 - val_true_negatives: 0.0000e+00 - val_false_positives: 745.0000 - val_false_negatives: 0.0000e+00\n",
            "Epoch 7/20\n",
            "135/135 [==============================] - 468s 3s/step - loss: 0.0882 - accuracy: 0.9696 - precision: 0.9670 - recall: 0.9326 - auc: 0.9913 - true_positives: 1232.0000 - true_negatives: 2940.0000 - false_positives: 42.0000 - false_negatives: 89.0000 - val_loss: 10.4436 - val_accuracy: 0.3070 - val_precision: 0.3070 - val_recall: 1.0000 - val_auc: 0.5000 - val_true_positives: 330.0000 - val_true_negatives: 0.0000e+00 - val_false_positives: 745.0000 - val_false_negatives: 0.0000e+00\n",
            "Epoch 8/20\n",
            "135/135 [==============================] - 466s 3s/step - loss: 0.0931 - accuracy: 0.9677 - precision: 0.9661 - recall: 0.9273 - auc: 0.9905 - true_positives: 1225.0000 - true_negatives: 2939.0000 - false_positives: 43.0000 - false_negatives: 96.0000 - val_loss: 9.9257 - val_accuracy: 0.3070 - val_precision: 0.3070 - val_recall: 1.0000 - val_auc: 0.5000 - val_true_positives: 330.0000 - val_true_negatives: 0.0000e+00 - val_false_positives: 745.0000 - val_false_negatives: 0.0000e+00\n",
            "Epoch 9/20\n",
            "135/135 [==============================] - 468s 3s/step - loss: 0.0893 - accuracy: 0.9703 - precision: 0.9678 - recall: 0.9341 - auc: 0.9900 - true_positives: 1234.0000 - true_negatives: 2941.0000 - false_positives: 41.0000 - false_negatives: 87.0000 - val_loss: 10.4579 - val_accuracy: 0.3135 - val_precision: 0.3090 - val_recall: 1.0000 - val_auc: 0.5212 - val_true_positives: 330.0000 - val_true_negatives: 7.0000 - val_false_positives: 738.0000 - val_false_negatives: 0.0000e+00\n",
            "Epoch 10/20\n",
            "135/135 [==============================] - 507s 4s/step - loss: 0.0813 - accuracy: 0.9721 - precision: 0.9702 - recall: 0.9379 - auc: 0.9930 - true_positives: 1239.0000 - true_negatives: 2944.0000 - false_positives: 38.0000 - false_negatives: 82.0000 - val_loss: 7.2399 - val_accuracy: 0.3405 - val_precision: 0.3173 - val_recall: 0.9970 - val_auc: 0.5637 - val_true_positives: 329.0000 - val_true_negatives: 37.0000 - val_false_positives: 708.0000 - val_false_negatives: 1.0000\n",
            "Epoch 11/20\n",
            "135/135 [==============================] - 460s 3s/step - loss: 0.0855 - accuracy: 0.9700 - precision: 0.9678 - recall: 0.9334 - auc: 0.9917 - true_positives: 1233.0000 - true_negatives: 2941.0000 - false_positives: 41.0000 - false_negatives: 88.0000 - val_loss: 0.5556 - val_accuracy: 0.8549 - val_precision: 0.9628 - val_recall: 0.5485 - val_auc: 0.9104 - val_true_positives: 181.0000 - val_true_negatives: 738.0000 - val_false_positives: 7.0000 - val_false_negatives: 149.0000\n",
            "Epoch 12/20\n",
            "135/135 [==============================] - 463s 3s/step - loss: 0.0724 - accuracy: 0.9756 - precision: 0.9720 - recall: 0.9478 - auc: 0.9934 - true_positives: 1252.0000 - true_negatives: 2946.0000 - false_positives: 36.0000 - false_negatives: 69.0000 - val_loss: 0.4167 - val_accuracy: 0.8577 - val_precision: 0.7757 - val_recall: 0.7545 - val_auc: 0.9119 - val_true_positives: 249.0000 - val_true_negatives: 673.0000 - val_false_positives: 72.0000 - val_false_negatives: 81.0000\n",
            "Epoch 13/20\n",
            "135/135 [==============================] - 461s 3s/step - loss: 0.0696 - accuracy: 0.9754 - precision: 0.9691 - recall: 0.9500 - auc: 0.9954 - true_positives: 1255.0000 - true_negatives: 2942.0000 - false_positives: 40.0000 - false_negatives: 66.0000 - val_loss: 0.4319 - val_accuracy: 0.8679 - val_precision: 0.9196 - val_recall: 0.6242 - val_auc: 0.9313 - val_true_positives: 206.0000 - val_true_negatives: 727.0000 - val_false_positives: 18.0000 - val_false_negatives: 124.0000\n",
            "Epoch 14/20\n",
            "135/135 [==============================] - 512s 4s/step - loss: 0.0614 - accuracy: 0.9798 - precision: 0.9790 - recall: 0.9546 - auc: 0.9958 - true_positives: 1261.0000 - true_negatives: 2955.0000 - false_positives: 27.0000 - false_negatives: 60.0000 - val_loss: 0.7770 - val_accuracy: 0.8428 - val_precision: 0.8643 - val_recall: 0.5788 - val_auc: 0.8642 - val_true_positives: 191.0000 - val_true_negatives: 715.0000 - val_false_positives: 30.0000 - val_false_negatives: 139.0000\n",
            "Epoch 15/20\n",
            "135/135 [==============================] - 461s 3s/step - loss: 0.0758 - accuracy: 0.9747 - precision: 0.9669 - recall: 0.9500 - auc: 0.9942 - true_positives: 1255.0000 - true_negatives: 2939.0000 - false_positives: 43.0000 - false_negatives: 66.0000 - val_loss: 0.4589 - val_accuracy: 0.8391 - val_precision: 0.9758 - val_recall: 0.4879 - val_auc: 0.9117 - val_true_positives: 161.0000 - val_true_negatives: 741.0000 - val_false_positives: 4.0000 - val_false_negatives: 169.0000\n",
            "Epoch 16/20\n",
            "135/135 [==============================] - 476s 4s/step - loss: 0.0650 - accuracy: 0.9782 - precision: 0.9752 - recall: 0.9531 - auc: 0.9949 - true_positives: 1259.0000 - true_negatives: 2950.0000 - false_positives: 32.0000 - false_negatives: 62.0000 - val_loss: 0.4697 - val_accuracy: 0.8614 - val_precision: 0.9641 - val_recall: 0.5697 - val_auc: 0.9096 - val_true_positives: 188.0000 - val_true_negatives: 738.0000 - val_false_positives: 7.0000 - val_false_negatives: 142.0000\n",
            "Epoch 17/20\n",
            "135/135 [==============================] - 513s 4s/step - loss: 0.0593 - accuracy: 0.9791 - precision: 0.9702 - recall: 0.9614 - auc: 0.9958 - true_positives: 1270.0000 - true_negatives: 2943.0000 - false_positives: 39.0000 - false_negatives: 51.0000 - val_loss: 8.5900 - val_accuracy: 0.3488 - val_precision: 0.3204 - val_recall: 1.0000 - val_auc: 0.5866 - val_true_positives: 330.0000 - val_true_negatives: 45.0000 - val_false_positives: 700.0000 - val_false_negatives: 0.0000e+00\n",
            "Epoch 18/20\n",
            "135/135 [==============================] - 462s 3s/step - loss: 0.0559 - accuracy: 0.9809 - precision: 0.9769 - recall: 0.9606 - auc: 0.9959 - true_positives: 1269.0000 - true_negatives: 2952.0000 - false_positives: 30.0000 - false_negatives: 52.0000 - val_loss: 0.3562 - val_accuracy: 0.8949 - val_precision: 0.8629 - val_recall: 0.7818 - val_auc: 0.9402 - val_true_positives: 258.0000 - val_true_negatives: 704.0000 - val_false_positives: 41.0000 - val_false_negatives: 72.0000\n",
            "Epoch 19/20\n",
            "135/135 [==============================] - 461s 3s/step - loss: 0.0545 - accuracy: 0.9812 - precision: 0.9799 - recall: 0.9584 - auc: 0.9960 - true_positives: 1266.0000 - true_negatives: 2956.0000 - false_positives: 26.0000 - false_negatives: 55.0000 - val_loss: 0.5216 - val_accuracy: 0.8549 - val_precision: 0.8783 - val_recall: 0.6121 - val_auc: 0.9185 - val_true_positives: 202.0000 - val_true_negatives: 717.0000 - val_false_positives: 28.0000 - val_false_negatives: 128.0000\n",
            "Epoch 20/20\n",
            "135/135 [==============================] - 464s 3s/step - loss: 0.0475 - accuracy: 0.9851 - precision: 0.9853 - recall: 0.9659 - auc: 0.9967 - true_positives: 1276.0000 - true_negatives: 2963.0000 - false_positives: 19.0000 - false_negatives: 45.0000 - val_loss: 0.4589 - val_accuracy: 0.8912 - val_precision: 0.9494 - val_recall: 0.6818 - val_auc: 0.9250 - val_true_positives: 225.0000 - val_true_negatives: 733.0000 - val_false_positives: 12.0000 - val_false_negatives: 105.0000\n"
          ]
        },
        {
          "output_type": "execute_result",
          "data": {
            "text/plain": [
              "<keras.callbacks.History at 0x7f6aac45ce20>"
            ]
          },
          "metadata": {},
          "execution_count": 30
        }
      ]
    },
    {
      "cell_type": "code",
      "source": [],
      "metadata": {
        "id": "3SdlzWCc4WgW"
      },
      "execution_count": null,
      "outputs": []
    }
  ]
}